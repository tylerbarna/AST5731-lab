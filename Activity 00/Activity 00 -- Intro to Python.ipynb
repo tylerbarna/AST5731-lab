{
 "cells": [
  {
   "cell_type": "markdown",
   "metadata": {},
   "source": [
    "## Activity 00  \n",
    "\n",
    "This activity is meant to have you start familiarizing with Python/R programming. \n",
    "Part B is not required. Complete it if there is enough time. \n",
    "\n",
    "**A.1** \n",
    "Goal: familiarize with different file types and with the [matplotlib](https://matplotlib.org/stable/index.html) library.  \n",
    "\n",
    "> The **matplotlib** library provides powerful tools for creating static, animated, and interactive visualizations \n",
    "  in Python. Go through the [Usage Basic tutorial](https://matplotlib.org/stable/tutorials/introductory/usage.html#sphx-glr-tutorials-introductory-usage-py), down to the \"Backend\" section excluded, and have a look at the examples [here](https://matplotlib.org/stable/gallery/index).\n",
    "\n",
    "**A.2** \n",
    "Goal: learn how to read in different file formats. \n",
    "\n",
    "> In the repository you will find the data for the Globular Cluster system of the galaxy NGC3379. The files have all the same root name (GCs_NGC3379), but the data are saved in three different format that are commonly used in astronomy (.fits, .dat, .csv). Use astropy and pandas to read in the files. You can learn how to read in fits files with astropy [here](https://docs.astropy.org/en/stable/io/fits/index.html), and for ascii: [astropy.io.ascii](https://docs.astropy.org/en/stable/io/fits/index.html). For cvs files, I use [pandas](https://pandas.pydata.org/docs/reference/api/pandas.read_csv.html).\n",
    "\n",
    "> Use the data to practice vizualization. The file contains magnitude measurements in three filters (VRI). Specifically, the file includes the following columns:\n",
    "\n",
    ">> ID    : identification number\n",
    ">> Xpos  : X position relative to center of galaxy [arcsecs] \n",
    ">> Ypos  : Y position relative to center of galaxy [arcsecs]\n",
    ">> Dist  : Radial distance [arcsecs]\n",
    ">> Rmag  : R magnitude [mag]\n",
    ">> V-R   : V-R color [mag]\n",
    ">> R-I   : R-I color [mag]\n",
    "\n",
    "\n",
    "> Use the data in the table to make the following:\n",
    "\n",
    "> a) a scatter plots of Rmag versus V-R\n",
    "\n",
    "> b) a scatter plots of Ypos versus Xpos \n",
    "\n",
    "> in b), colorcode the points according to their V-R. Add a color bar on the right of the figure.\n",
    "\n",
    "> c) plot a normalized histogram of Rmag (you can use [plt.hist](https://matplotlib.org/stable/api/_as_gen/matplotlib.pyplot.hist.html))\n",
    "\n",
    "> d) to avoid saturation when you plot many points in a diagram, you can either use the option alpha, or show 2D histograms. Make both versions for both plots. Add isodensity contours. In python, you can use [seaborn.kdeplot](https://seaborn.pydata.org/generated/seaborn.kdeplot.html) for this task, or the routines in matplotlib.\n",
    "\n",
    "\n",
    "\n",
    "**B.**\n",
    "Goal: familiarize with scipy.stats module.\n",
    "\n",
    "The [scipy.stats module](https://docs.scipy.org/doc/scipy/reference/stats.html) provide a a number of classes that allow you to easily work with  different kinds of random variables and their probability distributions, as well as a growing library of statistical functions. \n",
    "\n",
    "> a) Work through the first part of this [tutorial](https://docs.scipy.org/doc/scipy-1.9.1/tutorial/stats.html), down to \"Building specific distribution\" section (included). Use the [scipy.stats.norm](https://docs.scipy.org/doc/scipy/reference/generated/scipy.stats.norm.html#scipy.stats.norm) to work with the Normal distribution and:\n",
    "\n",
    "> b) Display the probability distribution funtion of a Normal distribution with $\\mu =-1$ and $\\sigma = 2$.\n",
    "\n",
    "> c) Generate N=50 random variates distributed according to this distribution. Plot a normalized histogram of these random variates. Compute the arithmetic mean of these variates. How does the arithmetic mean compare with the population mean?"
   ]
  },
  {
   "cell_type": "markdown",
   "metadata": {},
   "source": []
  }
 ],
 "metadata": {
  "kernelspec": {
   "display_name": "Python 3",
   "language": "python",
   "name": "python3"
  },
  "language_info": {
   "codemirror_mode": {
    "name": "ipython",
    "version": 3
   },
   "file_extension": ".py",
   "mimetype": "text/x-python",
   "name": "python",
   "nbconvert_exporter": "python",
   "pygments_lexer": "ipython3",
   "version": "3.8.8"
  }
 },
 "nbformat": 4,
 "nbformat_minor": 2
}
