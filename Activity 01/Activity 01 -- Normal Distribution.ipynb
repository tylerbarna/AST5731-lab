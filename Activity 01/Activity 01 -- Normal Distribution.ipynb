{
 "cells": [
  {
   "cell_type": "markdown",
   "id": "ce4e8484",
   "metadata": {},
   "source": [
    "## Activity 01\n",
    "\n",
    "This activity is meant for you to start practicing with the ideas of inference, simulations, posteriors and Bayesian best practices. \n",
    "\n",
    "The Panoramic Survey Telescope & Rapid Response System ([Pan-STARRS](http://legacy.ifa.hawaii.edu/research/Pan-STARRS.shtml)) is a wide-field imaging telescope that is observing the sky repeatedly to conduct a number of Galactic and Extragalactic studies. The data are released periodically, and the catalogs includes measurements in five filters ([grizy](https://outerspace.stsci.edu/display/PANSTARRS/PS1+Filter+properties)) covering 30,000 square degrees of the sky, with typically ~12 epochs for each filter. \n",
    "\n",
    "The archive [interface](https://catalogs.mast.stsci.edu/panstarrs/) allows to search the second data release (DR2) and download all the multi-epoch observations for any object covered by the Survey.\n",
    "\n",
    "In this activity, we will accurately estimate the flux of the standard star BD+28 4211. Standard stars are objects whose flux does not change with time (over sufficiently long timescales) and knowing their precise flux is extremely important in astronomy as it is used to remove instrumental effects from astronomical observations. \n",
    "\n",
    "The file BD+284211.csv includes repeated flux measurements for BD+28 4211 in the i filter, as a function of time.\n",
    "The columns are as follows:\n",
    "\n",
    "- objID      : object identifier\t\n",
    "- filterID\t : filter used for the observations \n",
    "- obsTime\t : time of the observation (Modified Julian Date at the midpoint of the observation) in days\n",
    "- ra\t     : Right Ascension of the object \n",
    "- dec\t     : Declination of the object \n",
    "             (RA and Dec are analog of Latitude and longitude)\n",
    "- psfFlux\t : flux of the star in Jy\n",
    "- psfFluxErr : measurement error\n",
    "- infoFlag2  : flag on the measurement [0 = good measurement, 32 = fitted with 2 PSF, problematic]\n",
    "\n",
    "You will use these data to estimate the flux of BD+28 4211, and report the result. \n",
    "\n",
    "**1**\n",
    "Perform a visual inspection of the data. Do you see anything unusual?\n",
    "\n",
    "Have the fluxes remained constant during the observation period?\n",
    "\n",
    "Anything special about the fluxes that have flags different from 0?\n",
    "\n",
    "Plot the distribution of fluxes.\n",
    "\n",
    "**2**\n",
    "Clearly explain the statistical model you use, including the likelihood function and the prior that you chose. Clearly explain how you compute the constants for the prior.\n",
    "\n",
    "**3**\n",
    "Write a code to compute the model. Follow best practices when writing your code [you will share the code with us]. Make sure the code is well commented and can easily be read by humans. Check that the code's paths are not specific to your machine. For reproducibility, set the seed for the pseudo-random number generator explicitly to 5731. \n",
    "\n",
    "**4**\n",
    "Plot the posterior distribution function, and compute the position of the posterior's maximum and its 95\\% credible interval. \n",
    "\n",
    "**5**\n",
    "Draw a random sample of size N=100 from the posterior distribution. Plot the distribution of this sample and compare it with the analytical expression. Compute the aritmetic mean and the difference between this and the mean of the posterior. Are they the same? \n",
    "\n",
    "Now consider 5 increasing values of N, from 10$^2$ to 10$^5$, linear in log step. For each sample compute the difference between the arithmetic mean and posterior mean. Comment on the trend between the difference and N.\n",
    "\n",
    "**6**\n",
    "Describe and justify any decisions you made. [E.g., what dis you do with the flagged measurements?]\n",
    "\n",
    "**7**\n",
    "Perform and describe a sensitivity analysis (i.e., discuss how the choice of the prior influences the result).\n",
    "\n"
   ]
  }
 ],
 "metadata": {
  "kernelspec": {
   "display_name": "Python 3.10.4 64-bit",
   "language": "python",
   "name": "python3"
  },
  "language_info": {
   "codemirror_mode": {
    "name": "ipython",
    "version": 3
   },
   "file_extension": ".py",
   "mimetype": "text/x-python",
   "name": "python",
   "nbconvert_exporter": "python",
   "pygments_lexer": "ipython3",
   "version": "3.10.4"
  },
  "vscode": {
   "interpreter": {
    "hash": "916dbcbb3f70747c44a77c7bcd40155683ae19c65e1c03b4aa3499c5328201f1"
   }
  }
 },
 "nbformat": 4,
 "nbformat_minor": 5
}
