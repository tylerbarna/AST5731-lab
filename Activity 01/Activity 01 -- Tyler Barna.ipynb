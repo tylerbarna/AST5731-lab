{
 "cells": [
  {
   "cell_type": "markdown",
   "metadata": {},
   "source": [
    "# Activity 01\n",
    "### Tyler Barna"
   ]
  },
  {
   "cell_type": "code",
   "execution_count": 41,
   "metadata": {},
   "outputs": [
    {
     "data": {
      "text/html": [
       "<div>\n",
       "<style scoped>\n",
       "    .dataframe tbody tr th:only-of-type {\n",
       "        vertical-align: middle;\n",
       "    }\n",
       "\n",
       "    .dataframe tbody tr th {\n",
       "        vertical-align: top;\n",
       "    }\n",
       "\n",
       "    .dataframe thead th {\n",
       "        text-align: right;\n",
       "    }\n",
       "</style>\n",
       "<table border=\"1\" class=\"dataframe\">\n",
       "  <thead>\n",
       "    <tr style=\"text-align: right;\">\n",
       "      <th></th>\n",
       "      <th>objID</th>\n",
       "      <th>filterID</th>\n",
       "      <th>obsTime</th>\n",
       "      <th>ra</th>\n",
       "      <th>dec</th>\n",
       "      <th>airMass</th>\n",
       "      <th>psfFlux</th>\n",
       "      <th>psfFluxErr</th>\n",
       "      <th>infoFlag2</th>\n",
       "    </tr>\n",
       "  </thead>\n",
       "  <tbody>\n",
       "    <tr>\n",
       "      <th>0</th>\n",
       "      <td>142623277801099039</td>\n",
       "      <td>3</td>\n",
       "      <td>55783.533723</td>\n",
       "      <td>327.780210</td>\n",
       "      <td>28.856972</td>\n",
       "      <td>1.10768</td>\n",
       "      <td>0.000012</td>\n",
       "      <td>0.000001</td>\n",
       "      <td>32</td>\n",
       "    </tr>\n",
       "    <tr>\n",
       "      <th>1</th>\n",
       "      <td>142623277801099039</td>\n",
       "      <td>3</td>\n",
       "      <td>55783.545668</td>\n",
       "      <td>327.780254</td>\n",
       "      <td>28.856969</td>\n",
       "      <td>1.14538</td>\n",
       "      <td>0.000011</td>\n",
       "      <td>0.000001</td>\n",
       "      <td>32</td>\n",
       "    </tr>\n",
       "    <tr>\n",
       "      <th>2</th>\n",
       "      <td>142623277801099039</td>\n",
       "      <td>3</td>\n",
       "      <td>56145.539254</td>\n",
       "      <td>327.780176</td>\n",
       "      <td>28.856968</td>\n",
       "      <td>1.09852</td>\n",
       "      <td>0.000016</td>\n",
       "      <td>0.000002</td>\n",
       "      <td>0</td>\n",
       "    </tr>\n",
       "    <tr>\n",
       "      <th>3</th>\n",
       "      <td>142623277801099039</td>\n",
       "      <td>3</td>\n",
       "      <td>56145.550525</td>\n",
       "      <td>327.780095</td>\n",
       "      <td>28.857105</td>\n",
       "      <td>1.13188</td>\n",
       "      <td>0.000010</td>\n",
       "      <td>0.000002</td>\n",
       "      <td>32</td>\n",
       "    </tr>\n",
       "    <tr>\n",
       "      <th>4</th>\n",
       "      <td>142623277801099039</td>\n",
       "      <td>3</td>\n",
       "      <td>55407.562255</td>\n",
       "      <td>327.780157</td>\n",
       "      <td>28.856985</td>\n",
       "      <td>1.10530</td>\n",
       "      <td>0.000015</td>\n",
       "      <td>0.000002</td>\n",
       "      <td>0</td>\n",
       "    </tr>\n",
       "  </tbody>\n",
       "</table>\n",
       "</div>"
      ],
      "text/plain": [
       "                objID  filterID       obsTime          ra        dec  airMass  \\\n",
       "0  142623277801099039         3  55783.533723  327.780210  28.856972  1.10768   \n",
       "1  142623277801099039         3  55783.545668  327.780254  28.856969  1.14538   \n",
       "2  142623277801099039         3  56145.539254  327.780176  28.856968  1.09852   \n",
       "3  142623277801099039         3  56145.550525  327.780095  28.857105  1.13188   \n",
       "4  142623277801099039         3  55407.562255  327.780157  28.856985  1.10530   \n",
       "\n",
       "    psfFlux  psfFluxErr  infoFlag2  \n",
       "0  0.000012    0.000001         32  \n",
       "1  0.000011    0.000001         32  \n",
       "2  0.000016    0.000002          0  \n",
       "3  0.000010    0.000002         32  \n",
       "4  0.000015    0.000002          0  "
      ]
     },
     "execution_count": 41,
     "metadata": {},
     "output_type": "execute_result"
    }
   ],
   "source": [
    "## import modules\n",
    "import numpy as np\n",
    "import pandas as pd\n",
    "import matplotlib.pyplot as plt\n",
    "import seaborn as sns\n",
    "import scipy.stats as stats\n",
    "from scipy.stats import norm\n",
    "import random\n",
    "random.seed(5731)\n",
    "\n",
    "## import data (altered name slightly to read in easier)\n",
    "df = pd.read_csv('data/BD+284211.csv') \n",
    "df.head()"
   ]
  },
  {
   "cell_type": "code",
   "execution_count": 40,
   "metadata": {},
   "outputs": [
    {
     "data": {
      "image/png": "[encoded data removed]",
      "text/plain": [
       "<Figure size 720x360 with 1 Axes>"
      ]
     },
     "metadata": {
      "needs_background": "light"
     },
     "output_type": "display_data"
    },
    {
     "data": {
      "image/png": "[encoded data removed]",
      "text/plain": [
       "<Figure size 720x360 with 1 Axes>"
      ]
     },
     "metadata": {
      "needs_background": "light"
     },
     "output_type": "display_data"
    }
   ],
   "source": [
    "## visual inspection of data/plotting flux vs time\n",
    "ax1 = df[df['infoFlag2'] == 0].plot(x='obsTime', y='psfFlux', yerr='psfFluxErr', kind='scatter', color='red', figsize=(10,5), label='Known Good Measurement');\n",
    "df[df['infoFlag2'] > 0].plot(x='obsTime', y='psfFlux', yerr='psfFluxErr', kind='scatter', color='blue', figsize=(10,5), ax = ax1, label='Problematic Measurement',grid=True);\n",
    "\n",
    "## plotting histogram of flux\n",
    "ax2 = df[df['infoFlag2'] == 0].plot(x='obsTime', y='psfFlux', yerr='psfFluxErr', kind='hist', color='red', figsize=(10,5), label='Known Good Measurement');\n",
    "df[df['infoFlag2'] > 0].plot(x='obsTime', y='psfFlux', yerr='psfFluxErr', kind='hist', color='blue', figsize=(10,5), ax = ax2, label='Problematic Measurement',grid=True);\n"
   ]
  },
  {
   "cell_type": "markdown",
   "metadata": {},
   "source": [
    "#### 1\n",
    "\n",
    "Looking at the flux values, they are noticeably small, being on the order of $10^{-5}$.\n",
    "\n",
    "Taking into account measurement errors, the flux measurements flaged as 'good' remain fairly constant over time with some exceptions around 55800.\n",
    "\n",
    "However, the flux measurements flagged as 'problematic' are more variable and are lower in value than the 'good' measurements."
   ]
  },
  {
   "cell_type": "markdown",
   "metadata": {},
   "source": [
    "#### 2 \n",
    "\n",
    "Given the title of this lab activity and what we discussed in lecture on Monday, I would expect the most informative model to use would be modeling a normal distribution."
   ]
  },
  {
   "cell_type": "code",
   "execution_count": 53,
   "metadata": {},
   "outputs": [
    {
     "data": {
      "text/plain": [
       "NormaltestResult(statistic=2.906558463174379, pvalue=0.233802337627548)"
      ]
     },
     "metadata": {},
     "output_type": "display_data"
    },
    {
     "data": {
      "text/plain": [
       "NormaltestResult(statistic=2.906558463174379, pvalue=0.233802337627548)"
      ]
     },
     "metadata": {},
     "output_type": "display_data"
    }
   ],
   "source": [
    "## Using stats normality test to see if data is potentially normally distributed\n",
    "display(stats.normaltest(df['psfFlux']))\n",
    "display(stats.normaltest(df[df['psfFlux'] > 0]['psfFlux']))\n",
    "\n",
    "## not really useful for our purposes"
   ]
  },
  {
   "cell_type": "markdown",
   "metadata": {},
   "source": [
    "Mean of Posterior (estimate of theta)\n",
    "$$\\begin{equation}\n",
    "\\theta = \\left( \\frac{n}{\\nu} + \\frac{1}{b}\\right)^{-1} \\left( \\frac{n \\bar{x}}{\\nu} + \\frac{a}{b}\\right)\n",
    "\\end{equation}$$\n",
    "\n",
    "Variance\n",
    "$$\\begin{equation}\n",
    "\\nu = \\left( \\frac{n}{\\nu} + \\frac{1}{b}\\right)^{-1}\n",
    "\\end{equation}$$\n",
    "\n",
    "$$\\begin{equation}\n",
    "X \\sim N(\\theta, \\nu)\n",
    "\\end{equation}$$\n",
    "where $ \\theta = N(a,b)$, with $a$ and $b$ being the mean and variance of the prior distribution.\n"
   ]
  },
  {
   "cell_type": "markdown",
   "metadata": {},
   "source": [
    "#### 3"
   ]
  },
  {
   "cell_type": "code",
   "execution_count": 98,
   "metadata": {},
   "outputs": [],
   "source": [
    "## finding error variance\n",
    "nu = df['psfFluxErr'].mean()\n",
    "numPoints = len(df['psfFluxErr'])\n",
    "xBar = df['psfFlux'].mean()\n",
    "a = 0 ## mean of prior distribution (chosen to be 0)\n",
    "b = 1 ## variance of prior distribution (chosen to be 1)"
   ]
  },
  {
   "cell_type": "code",
   "execution_count": 99,
   "metadata": {},
   "outputs": [
    {
     "name": "stdout",
     "output_type": "stream",
     "text": [
      "posterior mean =  1.3389645566409883e-05\n",
      "posterior variance =  1.1698207937071528e-07\n"
     ]
    }
   ],
   "source": [
    "## Finding mean and variance of posterior distribution\n",
    "posteriorMean = (numPoints/nu + 1/b)**(-1) * (numPoints*xBar/nu + a/b)\n",
    "print('posterior mean = ', posteriorMean)\n",
    "\n",
    "posteriorVar = (numPoints/nu + 1/b)**(-1)\n",
    "print('posterior variance = ', posteriorVar)"
   ]
  },
  {
   "cell_type": "markdown",
   "metadata": {},
   "source": [
    "#### 4 (partial?)"
   ]
  },
  {
   "cell_type": "code",
   "execution_count": 100,
   "metadata": {},
   "outputs": [
    {
     "data": {
      "text/plain": [
       "Text(0.5, 0, 'Measured Flux')"
      ]
     },
     "execution_count": 100,
     "metadata": {},
     "output_type": "execute_result"
    },
    {
     "data": {
      "image/png": "[encoded data removed]",
      "text/plain": [
       "<Figure size 432x288 with 1 Axes>"
      ]
     },
     "metadata": {
      "needs_background": "light"
     },
     "output_type": "display_data"
    }
   ],
   "source": [
    "## compute model of posterior distribution\n",
    "x = np.linspace(posteriorMean - 3e-6, posteriorMean + 3e-6, 1000)\n",
    "## pdf of normal distribution (using method built into scipy.stats, though could also be done by hand)\n",
    "y = norm.pdf(x, posteriorMean, posteriorVar) \n",
    "plt.plot(x, y, label='Posterior Distribution')\n",
    "plt.grid()\n",
    "plt.xlabel('Measured Flux')"
   ]
  },
  {
   "cell_type": "code",
   "execution_count": null,
   "metadata": {},
   "outputs": [],
   "source": []
  }
 ],
 "metadata": {
  "kernelspec": {
   "display_name": "Python 3.9.12 ('base')",
   "language": "python",
   "name": "python3"
  },
  "language_info": {
   "codemirror_mode": {
    "name": "ipython",
    "version": 3
   },
   "file_extension": ".py",
   "mimetype": "text/x-python",
   "name": "python",
   "nbconvert_exporter": "python",
   "pygments_lexer": "ipython3",
   "version": "3.9.12"
  },
  "orig_nbformat": 4,
  "vscode": {
   "interpreter": {
    "hash": "33e29ac6173c1f14126815b0649af3201190059c691e9f120f2bf408a19998c9"
   }
  }
 },
 "nbformat": 4,
 "nbformat_minor": 2
}
