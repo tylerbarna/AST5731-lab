{
 "cells": [
  {
   "cell_type": "markdown",
   "id": "0cd51130",
   "metadata": {},
   "source": [
    "## Activity 02\n",
    "\n",
    "In this activity you will continue practicing with the ideas of inference, simulations, posteriors and Bayesian best practices. \n",
    "\n",
    "Today, you will work with galaxies. More specifically, with a particular class of objects, called [Green Peas](https://en.wikipedia.org/wiki/Pea_galaxy). Green Peas are small galaxies (1 to 10\\% the mass of the Milky Way), but are forming stars at a much faster rate compared to our own galaxy. It is not clear why Green Peas are forming stars at such a fast pace. One possibility is that the formation of new stars is triggered by interactions with nearby companions.\n",
    "\n",
    "To test this hypotesis, Laufman et al. (2022) used new and archival data to search for companions around a sample of 23 Green Pea galaxies, and around a sample of 43 normal galaxies, matched in stellar mass and distance to the sample of Green Peas (but with normal star-formation rates). The data were obtained with the [MUSE spectrograph](https://www.eso.org/sci/facilities/develop/instruments/muse.html) on the [Very large Telescope](https://www.eso.org/sci/facilities/paranal.html) in Chile. \n",
    "\n",
    "The results of the analysis are collected in the file Laufman_Table2.dat, which includes the following columns:\n",
    "\n",
    "- Galaxy         : object identifier\t\n",
    "- has_companion  : a flag that identify whether or not the galaxy has a companion  (1= has a companion, 0 =does not have a companion)\n",
    "- GP             : Is it a Green Pea or a Normal Galaxy ? 1=GP  2= Normal Galaxy\n",
    "\n",
    "You will use the data to estimate the probability that a galaxy has a companion. You will make this estimate for both samples, the Green Peas and the normal galaxies.\n",
    "\n",
    "**1**\n",
    "Perform a visual inspection of the data, for both samples. What kind of data do you have? How do they differ from the data you had last week?\n",
    "\n",
    "**2**\n",
    "Build a statistical model as discussed in lecture. Clearly explain it. Including a motivation for the choice of the probability of observing the data, given the uknown parameter, and the probability of the parameter.  Clearly explain how you compute the constants for the prior.\n",
    "\n",
    "**3**\n",
    "Write a code to compute the model. As usual, follow best practices when writing your code [you will share the code with us]. Make sure the code is well commented and can easily be read by humans. Check that the code's paths are not specific to your machine. For reproducibility, set the seed for the pseudo-random number generator explicitly. \n",
    "\n",
    "**4**\n",
    "Plot the posterior distribution functions, and compute the position of the posterior's maximum and its 95\\% credible interval. \n",
    "\n",
    "**5**\n",
    "Perform and describe a sensitivity analysis (i.e., discuss how the choice of the prior influences the result).\n",
    "\n",
    "**6** \n",
    "Using the analysis you performed above, would you be comfortable stating \"The Green Pea galaxies are clearly different from the normal galaxy population\"? Why yes or why not?\n"
   ]
  },
  {
   "cell_type": "code",
   "execution_count": null,
   "id": "c4ca1b84",
   "metadata": {},
   "outputs": [],
   "source": []
  }
 ],
 "metadata": {
  "kernelspec": {
   "display_name": "Python 3.10.4 64-bit",
   "language": "python",
   "name": "python3"
  },
  "language_info": {
   "codemirror_mode": {
    "name": "ipython",
    "version": 3
   },
   "file_extension": ".py",
   "mimetype": "text/x-python",
   "name": "python",
   "nbconvert_exporter": "python",
   "pygments_lexer": "ipython3",
   "version": "3.10.4"
  },
  "vscode": {
   "interpreter": {
    "hash": "916dbcbb3f70747c44a77c7bcd40155683ae19c65e1c03b4aa3499c5328201f1"
   }
  }
 },
 "nbformat": 4,
 "nbformat_minor": 5
}
