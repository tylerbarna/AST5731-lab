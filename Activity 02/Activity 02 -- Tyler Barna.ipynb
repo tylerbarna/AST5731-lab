{
 "cells": [
  {
   "cell_type": "markdown",
   "metadata": {},
   "source": [
    "## Activity 02\n",
    "### Tyler Barna"
   ]
  },
  {
   "cell_type": "code",
   "execution_count": 96,
   "metadata": {},
   "outputs": [
    {
     "data": {
      "text/html": [
       "<div>\n",
       "<style scoped>\n",
       "    .dataframe tbody tr th:only-of-type {\n",
       "        vertical-align: middle;\n",
       "    }\n",
       "\n",
       "    .dataframe tbody tr th {\n",
       "        vertical-align: top;\n",
       "    }\n",
       "\n",
       "    .dataframe thead th {\n",
       "        text-align: right;\n",
       "    }\n",
       "</style>\n",
       "<table border=\"1\" class=\"dataframe\">\n",
       "  <thead>\n",
       "    <tr style=\"text-align: right;\">\n",
       "      <th></th>\n",
       "      <th>gal</th>\n",
       "      <th>comp</th>\n",
       "      <th>gp</th>\n",
       "    </tr>\n",
       "  </thead>\n",
       "  <tbody>\n",
       "    <tr>\n",
       "      <th>0</th>\n",
       "      <td>J094458.22-004545.4</td>\n",
       "      <td>1</td>\n",
       "      <td>0</td>\n",
       "    </tr>\n",
       "    <tr>\n",
       "      <th>1</th>\n",
       "      <td>J130211.15-000516.4</td>\n",
       "      <td>0</td>\n",
       "      <td>0</td>\n",
       "    </tr>\n",
       "    <tr>\n",
       "      <th>2</th>\n",
       "      <td>J232539.23+004507.2</td>\n",
       "      <td>0</td>\n",
       "      <td>0</td>\n",
       "    </tr>\n",
       "    <tr>\n",
       "      <th>3</th>\n",
       "      <td>J032244.89+004442.3</td>\n",
       "      <td>0</td>\n",
       "      <td>0</td>\n",
       "    </tr>\n",
       "    <tr>\n",
       "      <th>4</th>\n",
       "      <td>J012910.15+145934.6</td>\n",
       "      <td>0</td>\n",
       "      <td>0</td>\n",
       "    </tr>\n",
       "  </tbody>\n",
       "</table>\n",
       "</div>"
      ],
      "text/plain": [
       "                   gal  comp  gp\n",
       "0  J094458.22-004545.4     1   0\n",
       "1  J130211.15-000516.4     0   0\n",
       "2  J232539.23+004507.2     0   0\n",
       "3  J032244.89+004442.3     0   0\n",
       "4  J012910.15+145934.6     0   0"
      ]
     },
     "execution_count": 96,
     "metadata": {},
     "output_type": "execute_result"
    }
   ],
   "source": [
    "## import modules\n",
    "import numpy as np\n",
    "import pandas as pd\n",
    "import matplotlib.pyplot as plt\n",
    "import seaborn as sns\n",
    "import scipy.stats as stats\n",
    "from scipy.stats import norm\n",
    "from scipy.stats import beta\n",
    "from scipy.stats import binom\n",
    "import random\n",
    "random.seed(5731) ## set seed for reproducibility\n",
    "\n",
    "## import data (had to manually alter data slightly due to separators being inconsistent)\n",
    "df = pd.read_csv('Laufman_Table2.dat', sep=' ', skiprows=1,header=None,names=['gal','comp','gp'])\n",
    "df['comp'] = df['comp'].astype(int)\n",
    "df['gp'] = df['gp'].astype(int)\n",
    "df.head()"
   ]
  },
  {
   "cell_type": "markdown",
   "metadata": {},
   "source": [
    "#### 1"
   ]
  },
  {
   "cell_type": "code",
   "execution_count": 97,
   "metadata": {},
   "outputs": [
    {
     "name": "stdout",
     "output_type": "stream",
     "text": [
      "number of galaxies: 66\n",
      "number of green peas: 23\n",
      "number of normal galaxies: 43\n",
      "number of galaxies without a companion: 62\n",
      "number of galaxies with a companion: 4\n",
      "number of galaxies with a green pea companion: 4\n",
      "number of galaxies with a normal companion: 0\n"
     ]
    }
   ],
   "source": [
    "print('number of galaxies: %s'%df.shape[0])\n",
    "print('number of green peas: %s'%df[df['gp'] == 0].shape[0])\n",
    "print('number of normal galaxies: %s'%df[df['gp'] != 0].shape[0])\n",
    "print('number of galaxies without a companion: %s'%df[df['comp'] == 0].shape[0])\n",
    "print('number of galaxies with a companion: %s'%df[df['comp'] != 0].shape[0])\n",
    "print('number of galaxies with a green pea companion: %s'%df[(df['comp'] != 0) & (df['gp'] == 0)].shape[0])\n",
    "print('number of galaxies with a normal companion: %s'%df[(df['comp'] != 0) & (df['gp'] != 0)].shape[0])\n"
   ]
  },
  {
   "cell_type": "markdown",
   "metadata": {},
   "source": [
    "Visually inspecting the data, we can see that there are about 66 galaxies. About two thirds of these galaxies are 'normal' galaxies, with the other third being green peas. There are only 4 galaxies with companions, all of which are green peas, which meets expectations.\n",
    "\n",
    "This data is different from last week in that, while it is also observational data, it only contains binary values (ie whether or not there's a companion, whether or not a galaxy is a green pea). There are also no parameters regarding the certainty of a given measurment, as was the case last week when there was a distinction between known good observations and problematic measurements."
   ]
  },
  {
   "cell_type": "markdown",
   "metadata": {},
   "source": [
    "#### 2"
   ]
  },
  {
   "cell_type": "markdown",
   "metadata": {},
   "source": [
    "Given our discussions in class this week, we can easily justify that this should be a binomial distribution, and we can use this to look at the probability of observing a green pea galaxy having a companion.\n",
    "\n",
    "For our posterior, we take a beta distribution and we can make a basic assumption that \n",
    "\\begin{equation}\n",
    "\\theta = [0,1]\n",
    "\\end{equation}\n",
    "and \n",
    "\\begin{equation}\n",
    "a,b = 1,1\n",
    "\\end{equation}\n",
    "\n",
    "Our x represents the number of green pea galaxies with a companion\n",
    "\\begin{equation}\n",
    "x = 4\n",
    "\\end{equation}\n",
    "and our n is the number of green pea galaxies \n",
    "\\begin{equation}\n",
    "n = 23\n",
    "\\end{equation}\n",
    "\n",
    "Therefore, the likelihood is \n",
    "\\begin{equation}\n",
    "X | \\theta \\sim \\text{Binomial}(x=4, \\theta)\n",
    "\\end{equation}\n",
    "\n",
    "and the prior is\n",
    "\\begin{equation}\n",
    "\\theta \\sim \\text{Beta}(a=1, b=1)\n",
    "\\end{equation}\n",
    "\n",
    "The posterior is then\n",
    "\\begin{equation}\n",
    "\\theta | x \\sim \\text{Beta}(a+x=5, n+b-x=20)\n",
    "\\end{equation}\n",
    "\n",
    "The expected $\\theta$ is given by \n",
    "\\begin{equation}\n",
    "\\mathbb{E}[\\theta] = \\frac{a}{a+b}\n",
    "\\end{equation} \n",
    "\n",
    "so the expected theta for our prior is \n",
    "\\begin{equation}\n",
    "\\mathbb{E}[\\theta] = \\frac{1}{2} = 0.5\n",
    "\\end{equation}\n",
    "\n",
    "and the expected theta for our posterior is\n",
    "\\begin{equation}\n",
    "\\mathbb{E}[\\theta] = \\frac{5}{25} = 0.2\n",
    "\\end{equation}\n"
   ]
  },
  {
   "cell_type": "markdown",
   "metadata": {},
   "source": [
    "#### 3"
   ]
  },
  {
   "cell_type": "code",
   "execution_count": 98,
   "metadata": {},
   "outputs": [],
   "source": [
    "## start building a statistical model, specifically for a binomial distribution\n",
    "## first, we need to define the parameters of the binomial distribution\n",
    "a, b = 1, 1 ## prior assumption\n",
    "## mean and variance of the priors\n",
    "mean, var= beta.stats(a, b, moments='mv')\n",
    "\n",
    "## number of green peas with a companion\n",
    "x_gp = df[(df['comp'] != 0) & (df['gp'] == 0)].shape[0]\n",
    "##number of green peas\n",
    "n_gp = df[df['gp'] == 0].shape[0]\n",
    "x_gp, n_gp\n",
    "\n",
    "## calculate the posterior distribution\n",
    "a_post = a + x_gp\n",
    "b_post = b + n_gp - x_gp\n",
    "mean_post, var_post = beta.stats(a_post, b_post, moments='mv')"
   ]
  },
  {
   "cell_type": "markdown",
   "metadata": {},
   "source": [
    "#### 4"
   ]
  },
  {
   "cell_type": "code",
   "execution_count": 99,
   "metadata": {},
   "outputs": [
    {
     "name": "stdout",
     "output_type": "stream",
     "text": [
      "posterior maxiumum: 0.17171717171717174\n"
     ]
    },
    {
     "data": {
      "image/png": "[encoded data removed]",
      "text/plain": [
       "<Figure size 432x288 with 1 Axes>"
      ]
     },
     "metadata": {
      "needs_background": "light"
     },
     "output_type": "display_data"
    }
   ],
   "source": [
    "## plot the prior and posterior distributions\n",
    "linspace = np.linspace(0,1,100)\n",
    "#plt.plot(linspace, beta.pdf(linspace,  a, b), label='prior') ## prior isn't very informative\n",
    "plt.plot(linspace, beta.pdf(linspace,  a_post, b_post), label='posterior')\n",
    "\n",
    "\n",
    "## calculate tbe position of the posterior's maximum\n",
    "\n",
    "max_post = np.argmax(beta.pdf(linspace,  a_post, b_post))\n",
    "max_post_x = linspace[max_post]\n",
    "print('posterior maxiumum: %s'%max_post_x)\n",
    "\n",
    "## calculate the 95% credible interval\n",
    "min_95, max_95 = beta.interval(0.95, a_post, b_post)\n",
    "\n",
    "## plot the 95% credible interval\n",
    "plt.axvline(x=min_95, color='r', linestyle='--')\n",
    "plt.axvline(x=max_95, color='r', linestyle='--',label='95% credible interval')\n",
    "plt.axvline(x=max_post_x, color='k', linestyle='--',label='posterior maximum')\n",
    "plt.axvline(x=0.2, linestyle=':',label='expected posterior maximum',color='black')\n",
    "\n",
    "plt.legend();"
   ]
  },
  {
   "cell_type": "code",
   "execution_count": null,
   "metadata": {},
   "outputs": [],
   "source": []
  }
 ],
 "metadata": {
  "kernelspec": {
   "display_name": "Python 3.8.13 ('nmma')",
   "language": "python",
   "name": "python3"
  },
  "language_info": {
   "codemirror_mode": {
    "name": "ipython",
    "version": 3
   },
   "file_extension": ".py",
   "mimetype": "text/x-python",
   "name": "python",
   "nbconvert_exporter": "python",
   "pygments_lexer": "ipython3",
   "version": "3.8.13"
  },
  "orig_nbformat": 4,
  "vscode": {
   "interpreter": {
    "hash": "939c8e7d3940b32692e7c08a5b923004d552782d52c24952e3c3d6a9ea475cf1"
   }
  }
 },
 "nbformat": 4,
 "nbformat_minor": 2
}
