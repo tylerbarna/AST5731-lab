{
 "cells": [
  {
   "cell_type": "markdown",
   "id": "0cd51130",
   "metadata": {},
   "source": [
    "## Activity 03\n",
    "\n",
    "Today you will work with an example of the Poisson distribution.\n",
    "\n",
    "More specifically, you are considering writing a proposal to build a telescope that will perform the ultimate measurement of the expansion rate of the Universe, using distances derived from Type Ia SNae (White Dwarf Supernovae).\n",
    "Assume that in order to effectively measure the expansion rate you need at least 100 SNae.\n",
    "\n",
    "You decide that the best strategy to quickly get to your minimum number of SNae is to observe galaxy clusters (more galaxies, more SNae!). To plan the survey, i.e. to decide for how long you should observe, you need to know what the rate of SNIa is per cluster. \n",
    "\n",
    "After you search the literature for a day, however, the only information you can find is a [paper](https://www.aanda.org/articles/aa/pdf/2004/09/aah3971.pdf) presenting the results of the Mount Stromlo search for SNae in Abell galaxy clusters -- so not quite what you wanted, but close!!\n",
    "\n",
    "You will use the reported data (see below) to estimate the number of Type Ia SN explosions per year, per cluster.\n",
    "\n",
    "> **More on the Survey** \n",
    "The Mount Stromlo and Siding Springs Observatories (MSSSO) 1.3 m telescope was used to target all southern, high-density clusters lying within z < 0.08, from the Abell et al. (1989) survey of nearby, rich galaxy clusters. Search observations were scheduled so that each cluster was revisited approximately every 10 days allowing the discovery  of SNIa suitable for distance work. The search uncovered 48 SNae during its 3.5 year campaign, 23 of which were found to be consistent with SNIa.\n",
    ">\n",
    "In total the survey targeted 74 clusters.\n",
    "\n",
    "The file \"MountStrombloAbellClusterSN_Survey.dat\" includes the spectral classification (i.e., whether or not a SN is of Type Ia) for all the recorded 48 SNae. The classification can be: **nIa**(=not a Ia), **IIpec**(=a Type II),  **Ia**(=secure Type Ia) or **Ia?**(=possible Type Ia). \n",
    "\n",
    "You are writing a proposal, so you will be optimistic in your analysis, and in addition to all secure Type Ia SNae you will also include all **Ia?** in your sample. Compute the rate of SNae Ia per cluster, and estimate how long it will take you to complete the survey, if the field of view of your proposed telescope can only cover 5 galaxy clusters. \n",
    "\n",
    "In the analysis, as usual, follow the best practice guidelines posted on Canvas.  \n",
    "\n",
    "[**HINT**: don't forget the clusters for which SNae are NOT detected!]\n",
    "\n",
    "\n",
    "### If you have extra time at the end:\n",
    "\n",
    "Consider the original 1987 data from the Kamioka and IMB detectors and reported in the slides presented on Monday. \n",
    "\n",
    "In lecture Galin summarized the results for each experiments with one number. Explore whether the results change if you instead bin the data differently. \n"
   ]
  }
 ],
 "metadata": {
  "kernelspec": {
   "display_name": "Python 3.10.4 64-bit",
   "language": "python",
   "name": "python3"
  },
  "language_info": {
   "codemirror_mode": {
    "name": "ipython",
    "version": 3
   },
   "file_extension": ".py",
   "mimetype": "text/x-python",
   "name": "python",
   "nbconvert_exporter": "python",
   "pygments_lexer": "ipython3",
   "version": "3.10.4"
  },
  "vscode": {
   "interpreter": {
    "hash": "916dbcbb3f70747c44a77c7bcd40155683ae19c65e1c03b4aa3499c5328201f1"
   }
  }
 },
 "nbformat": 4,
 "nbformat_minor": 5
}
