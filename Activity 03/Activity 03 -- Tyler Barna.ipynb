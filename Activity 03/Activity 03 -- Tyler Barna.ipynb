{
 "cells": [
  {
   "cell_type": "markdown",
   "metadata": {},
   "source": [
    "## Activity 03\n",
    "### Tyler Barna"
   ]
  },
  {
   "cell_type": "code",
   "execution_count": 27,
   "metadata": {},
   "outputs": [
    {
     "data": {
      "text/html": [
       "<div>\n",
       "<style scoped>\n",
       "    .dataframe tbody tr th:only-of-type {\n",
       "        vertical-align: middle;\n",
       "    }\n",
       "\n",
       "    .dataframe tbody tr th {\n",
       "        vertical-align: top;\n",
       "    }\n",
       "\n",
       "    .dataframe thead th {\n",
       "        text-align: right;\n",
       "    }\n",
       "</style>\n",
       "<table border=\"1\" class=\"dataframe\">\n",
       "  <thead>\n",
       "    <tr style=\"text-align: right;\">\n",
       "      <th></th>\n",
       "      <th>SN</th>\n",
       "      <th>Abell</th>\n",
       "      <th>Type</th>\n",
       "      <th>year</th>\n",
       "    </tr>\n",
       "  </thead>\n",
       "  <tbody>\n",
       "    <tr>\n",
       "      <th>0</th>\n",
       "      <td>1996af</td>\n",
       "      <td>3879</td>\n",
       "      <td>nIa</td>\n",
       "      <td>1996</td>\n",
       "    </tr>\n",
       "    <tr>\n",
       "      <th>1</th>\n",
       "      <td>1996ag</td>\n",
       "      <td>3809</td>\n",
       "      <td>Ia?</td>\n",
       "      <td>1996</td>\n",
       "    </tr>\n",
       "    <tr>\n",
       "      <th>2</th>\n",
       "      <td>1996aj</td>\n",
       "      <td>3559</td>\n",
       "      <td>Ia</td>\n",
       "      <td>1996</td>\n",
       "    </tr>\n",
       "    <tr>\n",
       "      <th>3</th>\n",
       "      <td>1996am</td>\n",
       "      <td>3809</td>\n",
       "      <td>Ia</td>\n",
       "      <td>1996</td>\n",
       "    </tr>\n",
       "    <tr>\n",
       "      <th>4</th>\n",
       "      <td>1996ao</td>\n",
       "      <td>3128</td>\n",
       "      <td>Ia</td>\n",
       "      <td>1996</td>\n",
       "    </tr>\n",
       "  </tbody>\n",
       "</table>\n",
       "</div>"
      ],
      "text/plain": [
       "       SN  Abell Type  year\n",
       "0  1996af   3879  nIa  1996\n",
       "1  1996ag   3809  Ia?  1996\n",
       "2  1996aj   3559   Ia  1996\n",
       "3  1996am   3809   Ia  1996\n",
       "4  1996ao   3128   Ia  1996"
      ]
     },
     "execution_count": 27,
     "metadata": {},
     "output_type": "execute_result"
    }
   ],
   "source": [
    "## import modules (running on python 3.9.12)\n",
    "import numpy as np\n",
    "import pandas as pd\n",
    "import matplotlib.pyplot as plt\n",
    "import re\n",
    "import seaborn as sns\n",
    "import scipy.stats as stats\n",
    "from scipy.stats import norm\n",
    "from scipy.stats import beta\n",
    "from scipy.stats import binom\n",
    "import random\n",
    "random.seed(5731) ## set seed for reproducibility\n",
    "\n",
    "## import data\n",
    "df = pd.read_csv('MountStrombloAbellClusterSN_Survey.dat', sep='\\s+')\n",
    "\n",
    "## add a column for just the year by converting SN column\n",
    "df['year'] = df['SN'].str.extract('(\\d{4})', expand=True).astype(int)\n",
    "df.head()"
   ]
  },
  {
   "cell_type": "code",
   "execution_count": 26,
   "metadata": {},
   "outputs": [
    {
     "name": "stdout",
     "output_type": "stream",
     "text": [
      "Number of Ia and Ia? SNe: 23 \n",
      "\n",
      "Number of clusters with Ia and Ia? SNe: 23 \n",
      "\n",
      "Number of unique clusters with Ia and Ia? SNe: 18 \n",
      "\n",
      "Year range of Ia and Ia? SNe: 1996 - 1999 \n",
      "\n"
     ]
    }
   ],
   "source": [
    "## Import Ia and Ia? data\n",
    "df_Ia = df[(df['Type'] == 'Ia') | (df['Type'] == 'Ia?')]\n",
    "\n",
    "## print some stats on the data\n",
    "print('Number of Ia and Ia? SNe: %s \\n'%len(df_Ia))\n",
    "print('Number of clusters with Ia and Ia? SNe: %s \\n'%len(df_Ia['Abell']))\n",
    "print('Number of unique clusters with Ia and Ia? SNe: %s \\n'%len(df_Ia['Abell'].unique()))\n",
    "print('Year range of Ia and Ia? SNe: %s - %s \\n'%(df_Ia['year'].min(), df_Ia['year'].max()))\n"
   ]
  },
  {
   "cell_type": "code",
   "execution_count": 19,
   "metadata": {},
   "outputs": [
    {
     "data": {
      "text/plain": [
       "<AxesSubplot:xlabel='Abell'>"
      ]
     },
     "execution_count": 19,
     "metadata": {},
     "output_type": "execute_result"
    },
    {
     "data": {
      "image/png": "[encoded data removed]",
      "text/plain": [
       "<Figure size 1440x720 with 1 Axes>"
      ]
     },
     "metadata": {
      "needs_background": "light"
     },
     "output_type": "display_data"
    }
   ],
   "source": [
    "## group SN by Abell Cluster and year and plot histogram\n",
    "df_Ia.groupby(['Abell', 'year']).size().unstack().plot(kind='bar', stacked=True, figsize=(20,10))"
   ]
  },
  {
   "cell_type": "code",
   "execution_count": null,
   "metadata": {},
   "outputs": [],
   "source": []
  }
 ],
 "metadata": {
  "kernelspec": {
   "display_name": "Python 3.9.12 ('base')",
   "language": "python",
   "name": "python3"
  },
  "language_info": {
   "codemirror_mode": {
    "name": "ipython",
    "version": 3
   },
   "file_extension": ".py",
   "mimetype": "text/x-python",
   "name": "python",
   "nbconvert_exporter": "python",
   "pygments_lexer": "ipython3",
   "version": "3.9.12"
  },
  "orig_nbformat": 4,
  "vscode": {
   "interpreter": {
    "hash": "33e29ac6173c1f14126815b0649af3201190059c691e9f120f2bf408a19998c9"
   }
  }
 },
 "nbformat": 4,
 "nbformat_minor": 2
}
