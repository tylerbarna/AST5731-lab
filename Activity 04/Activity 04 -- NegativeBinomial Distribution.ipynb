{
 "cells": [
  {
   "cell_type": "markdown",
   "id": "0cd51130",
   "metadata": {},
   "source": [
    "#### Activity 04\n",
    "\n",
    "Today you will work with a new class of objects, called Planetary Nebulae.\n",
    "\n",
    "Planetary Nebulae represent the end-stage of the life of low mass stars (M<8Msun). They can be used as distance indicators in the same way as Globular Clusters can. This means that the standard candle is not the Planetary nebula per se, but the Planetary Nebulae luminosity distribution. \n",
    "\n",
    "To properly constrain a luminosity distribution one needs a sufficient number of objetcs. So if you want to use Planetary Nebulae to measure the distance of the galaxy NGC5731, before you embarque in an expensive spectroscopic survey, you will need to make sure there are enough Planetary Nebulae in it. So you need to know on ovarage, how many Planetary Nebulae there are in galaxies.  \n",
    "\n",
    "The file \"Numbers_PNe.csv\" includes the number of Planetary Nebulae for a sample of galaxies in the Virgo cluster. \n",
    "The columns are: 1) galaxy name, and 2) number of Planetary Nebulae. \n",
    "The data were taken from [here](https://www.aanda.org/articles/aa/pdf/2021/09/aa41314-21.pdf). \n",
    "\n",
    "You will use the reported data to estimate the average number of Planetary Nebulae per galaxy and then use the posterior predictive distribution to predict how many Planetary Nebulae you will see in your survey of NGC5731.\n",
    "\n",
    "In the analysis, as usual, follow the best practice guidelines posted on Canvas.  \n",
    "\n",
    "\n",
    "\n",
    "PS: YES: NGC5731 really exists...([look here](https://in-the-sky.org/data/object.php?id=NGC5731))"
   ]
  },
  {
   "cell_type": "code",
   "execution_count": null,
   "id": "3ca36c46",
   "metadata": {},
   "outputs": [],
   "source": []
  },
  {
   "cell_type": "code",
   "execution_count": null,
   "id": "1b80c059",
   "metadata": {},
   "outputs": [],
   "source": []
  }
 ],
 "metadata": {
  "kernelspec": {
   "display_name": "Python 3",
   "language": "python",
   "name": "python3"
  },
  "language_info": {
   "codemirror_mode": {
    "name": "ipython",
    "version": 3
   },
   "file_extension": ".py",
   "mimetype": "text/x-python",
   "name": "python",
   "nbconvert_exporter": "python",
   "pygments_lexer": "ipython3",
   "version": "3.8.8"
  }
 },
 "nbformat": 4,
 "nbformat_minor": 5
}
