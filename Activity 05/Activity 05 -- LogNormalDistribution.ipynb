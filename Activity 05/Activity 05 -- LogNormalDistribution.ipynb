{
 "cells": [
  {
   "cell_type": "markdown",
   "id": "0cd51130",
   "metadata": {},
   "source": [
    "#### Activity 05\n",
    "\n",
    "Today you will work with extrasolar planets. \n",
    "\n",
    "On Monday you sae how radii of extrasolar planets can be computed using the drop in the star flux while a planet passes in front of the star. \n",
    "\n",
    "The file \"Planet_Radii.csv\" includes the radii of a large sample of extrasolar planets identified by the Kepler telescope. \n",
    "The data were taken from [here](https://exoplanetarchive.ipac.caltech.edu/docs/data.html). \n",
    "\n",
    "You will use the reported data to estimate the parameter $\\mu$ of the LogNormal distribution marginalizing over the value of $\\sigma$.\n",
    "\n",
    "In the analysis, as usual, follow the best practice guidelines posted on Canvas.  \n"
   ]
  },
  {
   "cell_type": "code",
   "execution_count": null,
   "id": "af70147a",
   "metadata": {},
   "outputs": [],
   "source": []
  }
 ],
 "metadata": {
  "kernelspec": {
   "display_name": "Python 3",
   "language": "python",
   "name": "python3"
  },
  "language_info": {
   "codemirror_mode": {
    "name": "ipython",
    "version": 3
   },
   "file_extension": ".py",
   "mimetype": "text/x-python",
   "name": "python",
   "nbconvert_exporter": "python",
   "pygments_lexer": "ipython3",
   "version": "3.8.8"
  }
 },
 "nbformat": 4,
 "nbformat_minor": 5
}
