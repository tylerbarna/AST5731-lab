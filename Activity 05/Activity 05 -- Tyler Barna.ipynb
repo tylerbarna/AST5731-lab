{
 "cells": [
  {
   "cell_type": "markdown",
   "metadata": {},
   "source": [
    "## Activity 05\n",
    "### Tyler Barna"
   ]
  },
  {
   "cell_type": "code",
   "execution_count": 31,
   "metadata": {},
   "outputs": [
    {
     "data": {
      "text/html": [
       "<div>\n",
       "<style scoped>\n",
       "    .dataframe tbody tr th:only-of-type {\n",
       "        vertical-align: middle;\n",
       "    }\n",
       "\n",
       "    .dataframe tbody tr th {\n",
       "        vertical-align: top;\n",
       "    }\n",
       "\n",
       "    .dataframe thead th {\n",
       "        text-align: right;\n",
       "    }\n",
       "</style>\n",
       "<table border=\"1\" class=\"dataframe\">\n",
       "  <thead>\n",
       "    <tr style=\"text-align: right;\">\n",
       "      <th></th>\n",
       "      <th>Radius</th>\n",
       "    </tr>\n",
       "  </thead>\n",
       "  <tbody>\n",
       "    <tr>\n",
       "      <th>0</th>\n",
       "      <td>1.37</td>\n",
       "    </tr>\n",
       "    <tr>\n",
       "      <th>1</th>\n",
       "      <td>2.19</td>\n",
       "    </tr>\n",
       "    <tr>\n",
       "      <th>2</th>\n",
       "      <td>1.24</td>\n",
       "    </tr>\n",
       "    <tr>\n",
       "      <th>3</th>\n",
       "      <td>2.08</td>\n",
       "    </tr>\n",
       "    <tr>\n",
       "      <th>4</th>\n",
       "      <td>1.40</td>\n",
       "    </tr>\n",
       "  </tbody>\n",
       "</table>\n",
       "</div>"
      ],
      "text/plain": [
       "   Radius\n",
       "0    1.37\n",
       "1    2.19\n",
       "2    1.24\n",
       "3    2.08\n",
       "4    1.40"
      ]
     },
     "execution_count": 31,
     "metadata": {},
     "output_type": "execute_result"
    }
   ],
   "source": [
    "## import modules (running on python 3.9.12)\n",
    "\n",
    "import matplotlib.pyplot as plt\n",
    "import numpy as np\n",
    "import pandas as pd\n",
    "#import pymc3 as pm\n",
    "import random\n",
    "import scipy as sp\n",
    "import seaborn as sns\n",
    "\n",
    "\n",
    "import scipy.stats as stats\n",
    "from scipy.stats import norm\n",
    "from scipy.stats import beta\n",
    "from scipy.stats import binom\n",
    "from scipy.stats import poisson\n",
    "from scipy.stats import gamma\n",
    "from scipy.stats import nbinom\n",
    "from scipy.stats import lognorm\n",
    "from scipy.stats import t\n",
    "\n",
    "from sklearn.neighbors import KernelDensity as kd\n",
    "\n",
    "## set seed for reproducibility\n",
    "random.seed(5731) \n",
    "\n",
    "## import data \n",
    "df = pd.read_csv('planet_radii.csv')\n",
    "df.head()"
   ]
  },
  {
   "cell_type": "markdown",
   "metadata": {},
   "source": [
    "Let's find some basic stats about the data"
   ]
  },
  {
   "cell_type": "code",
   "execution_count": 30,
   "metadata": {},
   "outputs": [
    {
     "data": {
      "text/html": [
       "<div>\n",
       "<style scoped>\n",
       "    .dataframe tbody tr th:only-of-type {\n",
       "        vertical-align: middle;\n",
       "    }\n",
       "\n",
       "    .dataframe tbody tr th {\n",
       "        vertical-align: top;\n",
       "    }\n",
       "\n",
       "    .dataframe thead th {\n",
       "        text-align: right;\n",
       "    }\n",
       "</style>\n",
       "<table border=\"1\" class=\"dataframe\">\n",
       "  <thead>\n",
       "    <tr style=\"text-align: right;\">\n",
       "      <th></th>\n",
       "      <th>Radius</th>\n",
       "    </tr>\n",
       "  </thead>\n",
       "  <tbody>\n",
       "    <tr>\n",
       "      <th>count</th>\n",
       "      <td>1261.000000</td>\n",
       "    </tr>\n",
       "    <tr>\n",
       "      <th>mean</th>\n",
       "      <td>2.203620</td>\n",
       "    </tr>\n",
       "    <tr>\n",
       "      <th>std</th>\n",
       "      <td>1.869886</td>\n",
       "    </tr>\n",
       "    <tr>\n",
       "      <th>min</th>\n",
       "      <td>0.270000</td>\n",
       "    </tr>\n",
       "    <tr>\n",
       "      <th>25%</th>\n",
       "      <td>1.250000</td>\n",
       "    </tr>\n",
       "    <tr>\n",
       "      <th>50%</th>\n",
       "      <td>1.780000</td>\n",
       "    </tr>\n",
       "    <tr>\n",
       "      <th>75%</th>\n",
       "      <td>2.450000</td>\n",
       "    </tr>\n",
       "    <tr>\n",
       "      <th>max</th>\n",
       "      <td>16.100000</td>\n",
       "    </tr>\n",
       "  </tbody>\n",
       "</table>\n",
       "</div>"
      ],
      "text/plain": [
       "            Radius\n",
       "count  1261.000000\n",
       "mean      2.203620\n",
       "std       1.869886\n",
       "min       0.270000\n",
       "25%       1.250000\n",
       "50%       1.780000\n",
       "75%       2.450000\n",
       "max      16.100000"
      ]
     },
     "metadata": {},
     "output_type": "display_data"
    },
    {
     "data": {
      "image/png": "[encoded data removed]",
      "text/plain": [
       "<Figure size 720x432 with 1 Axes>"
      ]
     },
     "metadata": {},
     "output_type": "display_data"
    }
   ],
   "source": [
    "## find and print basic stats\n",
    "display(df.describe())\n",
    "\n",
    "## plot histogram\n",
    "fig, ax = plt.subplots(figsize=(10,6), facecolor='white')\n",
    "sns.histplot(df['Radius'], kde=True, bins=50, ax=ax)\n",
    "plt.xlabel('Radius', fontsize=16)\n",
    "plt.ylabel('Count', fontsize=16)\n",
    "plt.show();"
   ]
  },
  {
   "cell_type": "markdown",
   "metadata": {},
   "source": [
    "For this analysis, the prior is taken to be simply $1/\\lambda$ (which will be expanded upon in a moment), whereas the posterior is a t distribution. The likelihood is a log normal distribution\n",
    "\n",
    "We use a joint prior $\\nu(\\mu, \\lambda) = \\nu(\\mu) \\nu(\\lambda)$, where $\\nu(\\mu) = 1 $ and $\\nu(\\lambda) = 1/\\lambda$. Here, $\\lambda$ is the variance of the data. This means our prior is simply $\\nu(\\mu, \\lambda) = 1/\\lambda$. As a result of using this method, we are not able to conduct a prior predictive check or sensitivity analysis.\n",
    "\n",
    "We should first find the variance of the data and then calculate this prior"
   ]
  },
  {
   "cell_type": "code",
   "execution_count": 45,
   "metadata": {},
   "outputs": [
    {
     "name": "stdout",
     "output_type": "stream",
     "text": [
      "Variance of the log of the radius: 0.32 \n",
      "\n",
      "mu: 1\n",
      "lambda: 3.1\n",
      "prior: 3.1\n"
     ]
    }
   ],
   "source": [
    "## calculate the log of the radius\n",
    "df['log_Radius'] = np.log(df['Radius'])\n",
    "## find variance of the log of the radius\n",
    "rad_var = df['log_Radius'].var()\n",
    "print('Variance of the log of the radius: %s \\n'%round(rad_var,2))\n",
    "\n",
    "## define mu and lambda (can't use 'lambda' because it's a reserved word)\n",
    "mu = 1 \n",
    "lam = 1/rad_var\n",
    "\n",
    "print('mu: %s'%mu)\n",
    "print('lambda: %s'%round(lam,2))\n",
    "\n",
    "## calculate the prior \n",
    "prior = mu * lam \n",
    "print('prior: %s'%round(prior,2))"
   ]
  },
  {
   "cell_type": "code",
   "execution_count": null,
   "metadata": {},
   "outputs": [],
   "source": []
  }
 ],
 "metadata": {
  "kernelspec": {
   "display_name": "Python 3.9.13 ('ast5731')",
   "language": "python",
   "name": "python3"
  },
  "language_info": {
   "codemirror_mode": {
    "name": "ipython",
    "version": 3
   },
   "file_extension": ".py",
   "mimetype": "text/x-python",
   "name": "python",
   "nbconvert_exporter": "python",
   "pygments_lexer": "ipython3",
   "version": "3.9.13"
  },
  "orig_nbformat": 4,
  "vscode": {
   "interpreter": {
    "hash": "48ba337186cdeb473066c6f1845eedde2b671a74890cc3a14f1c7d6e319b96ea"
   }
  }
 },
 "nbformat": 4,
 "nbformat_minor": 2
}
