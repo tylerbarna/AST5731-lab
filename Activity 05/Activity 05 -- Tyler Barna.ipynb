{
 "cells": [
  {
   "cell_type": "markdown",
   "metadata": {},
   "source": [
    "## Activity 05\n",
    "### Tyler Barna"
   ]
  },
  {
   "cell_type": "code",
   "execution_count": 6,
   "metadata": {},
   "outputs": [
    {
     "data": {
      "text/html": [
       "<div>\n",
       "<style scoped>\n",
       "    .dataframe tbody tr th:only-of-type {\n",
       "        vertical-align: middle;\n",
       "    }\n",
       "\n",
       "    .dataframe tbody tr th {\n",
       "        vertical-align: top;\n",
       "    }\n",
       "\n",
       "    .dataframe thead th {\n",
       "        text-align: right;\n",
       "    }\n",
       "</style>\n",
       "<table border=\"1\" class=\"dataframe\">\n",
       "  <thead>\n",
       "    <tr style=\"text-align: right;\">\n",
       "      <th></th>\n",
       "      <th>Radius</th>\n",
       "    </tr>\n",
       "  </thead>\n",
       "  <tbody>\n",
       "    <tr>\n",
       "      <th>0</th>\n",
       "      <td>1.37</td>\n",
       "    </tr>\n",
       "    <tr>\n",
       "      <th>1</th>\n",
       "      <td>2.19</td>\n",
       "    </tr>\n",
       "    <tr>\n",
       "      <th>2</th>\n",
       "      <td>1.24</td>\n",
       "    </tr>\n",
       "    <tr>\n",
       "      <th>3</th>\n",
       "      <td>2.08</td>\n",
       "    </tr>\n",
       "    <tr>\n",
       "      <th>4</th>\n",
       "      <td>1.40</td>\n",
       "    </tr>\n",
       "  </tbody>\n",
       "</table>\n",
       "</div>"
      ],
      "text/plain": [
       "   Radius\n",
       "0    1.37\n",
       "1    2.19\n",
       "2    1.24\n",
       "3    2.08\n",
       "4    1.40"
      ]
     },
     "execution_count": 6,
     "metadata": {},
     "output_type": "execute_result"
    }
   ],
   "source": [
    "## import modules (running on python 3.9.12)\n",
    "\n",
    "import matplotlib.pyplot as plt\n",
    "import numpy as np\n",
    "import pandas as pd\n",
    "#import pymc3 as pm\n",
    "import random\n",
    "import scipy\n",
    "import seaborn as sns\n",
    "\n",
    "\n",
    "import scipy.stats as stats\n",
    "from scipy.stats import norm\n",
    "from scipy.stats import beta\n",
    "from scipy.stats import binom\n",
    "from scipy.stats import poisson\n",
    "from scipy.stats import gamma\n",
    "from scipy.stats import nbinom\n",
    "from scipy.stats import lognorm\n",
    "\n",
    "## set seed for reproducibility\n",
    "random.seed(5731) \n",
    "\n",
    "## import data \n",
    "df = pd.read_csv('planet_radii.csv')\n",
    "df.head()"
   ]
  },
  {
   "cell_type": "markdown",
   "metadata": {},
   "source": [
    "Let's find some basic stats about the data"
   ]
  },
  {
   "cell_type": "code",
   "execution_count": 9,
   "metadata": {},
   "outputs": [
    {
     "name": "stdout",
     "output_type": "stream",
     "text": [
      "Number of planets in dataset:  1261\n",
      "Smallest Radius:  0.27\n",
      "Largest Radius:  16.1\n",
      "Mean Radius:  2.2\n",
      "Median Radius:  1.78\n"
     ]
    },
    {
     "data": {
      "image/png": "[encoded data removed]",
      "text/plain": [
       "<Figure size 720x432 with 1 Axes>"
      ]
     },
     "metadata": {},
     "output_type": "display_data"
    }
   ],
   "source": [
    "## find and print basic stats\n",
    "print('Number of planets in dataset: ', len(df))\n",
    "print('Smallest Radius: ', min(df['Radius']))\n",
    "print('Largest Radius: ', max(df['Radius']))\n",
    "print('Mean Radius: ', round(np.mean(df['Radius']),2))\n",
    "print('Median Radius: ', np.median(df['Radius']))\n",
    "\n",
    "## plot histogram\n",
    "fig, ax = plt.subplots(figsize=(10,6), facecolor='white')\n",
    "ax.hist(df['Radius'], color='blue', edgecolor='black')\n",
    "plt.xlabel('Radius', fontsize=16)\n",
    "plt.ylabel('Count', fontsize=16)\n",
    "plt.show();"
   ]
  },
  {
   "cell_type": "code",
   "execution_count": null,
   "metadata": {},
   "outputs": [],
   "source": []
  }
 ],
 "metadata": {
  "kernelspec": {
   "display_name": "Python 3.9.13 ('ast5731')",
   "language": "python",
   "name": "python3"
  },
  "language_info": {
   "codemirror_mode": {
    "name": "ipython",
    "version": 3
   },
   "file_extension": ".py",
   "mimetype": "text/x-python",
   "name": "python",
   "nbconvert_exporter": "python",
   "pygments_lexer": "ipython3",
   "version": "3.9.13"
  },
  "orig_nbformat": 4,
  "vscode": {
   "interpreter": {
    "hash": "48ba337186cdeb473066c6f1845eedde2b671a74890cc3a14f1c7d6e319b96ea"
   }
  }
 },
 "nbformat": 4,
 "nbformat_minor": 2
}
