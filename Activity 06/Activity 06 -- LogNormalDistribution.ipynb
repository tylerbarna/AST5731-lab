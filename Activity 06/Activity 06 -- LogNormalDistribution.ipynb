{
 "cells": [
  {
   "cell_type": "markdown",
   "id": "0cd51130",
   "metadata": {},
   "source": [
    "#### Activity 06\n",
    "\n",
    "Today you will work with the same data as last week, and estinmate the average radius of the sample of Kepler's detected extrasolar planets. \n",
    "\n",
    "\n",
    "You will use the same file \"Planet_Radii.csv\" that can be found in ACTIVITY05 directory on Canvas and that includes the radii of a large sample of extrasolar planets. \n",
    "\n",
    "You will write a code to use a Gibbs sampling algorithm to sample from the posterior distribution of both parameters $\\mu$ and $\\lambda$ of the LogNormal distribution. You will do this for both the improper Jeffreys prior and the more informative priors we discussed in class on Monday. Perform a sensitivity analysis for the proper priors.\n",
    "\n",
    "Use the posterior to estimate the mean radius of the sample of extrasolar planets, together with the 95% credibility interval. \n",
    "\n",
    "Explore how the result changes by varying the chain length: 100, 1000, 10000 when you simulate with the Gibbs sampler.  "
   ]
  },
  {
   "cell_type": "code",
   "execution_count": null,
   "id": "654b9416",
   "metadata": {},
   "outputs": [],
   "source": []
  }
 ],
 "metadata": {
  "kernelspec": {
   "display_name": "Python 3",
   "language": "python",
   "name": "python3"
  },
  "language_info": {
   "codemirror_mode": {
    "name": "ipython",
    "version": 3
   },
   "file_extension": ".py",
   "mimetype": "text/x-python",
   "name": "python",
   "nbconvert_exporter": "python",
   "pygments_lexer": "ipython3",
   "version": "3.8.8"
  }
 },
 "nbformat": 4,
 "nbformat_minor": 5
}
