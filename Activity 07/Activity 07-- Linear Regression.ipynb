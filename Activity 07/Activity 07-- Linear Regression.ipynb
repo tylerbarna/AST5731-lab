{
 "cells": [
  {
   "cell_type": "markdown",
   "metadata": {},
   "source": [
    "## Activity 07\n",
    "\n",
    "\n",
    "The file 'Data_fundamental_Plane_kpc.csv' contains the measurements of the following variables in a large sample of elliptical galaxies. The columns are:\n",
    "\n",
    "- ID\n",
    "- *A_R*: R-band galactic extinction correction.\n",
    "- *LogRe* = Y: Log10 Effective radius [in kpc] \n",
    "- *mue* = X1: Mean R-band surface brightness within the effective radius [mag/arcseconds^2]\n",
    "- *logSigma* = X2: Log10 Central velocity dispersion [km/s]\n",
    "- *eLogSigma*: rms uncertainty on logsigma \n",
    "- *velocity*: Galaxy heliocentric radial velocity\n",
    "- *Type*: Morphological Type\n",
    "\n",
    "Where Type $\\ge$ -4 corresponds to Ellipticals, -3 $\\le Type\\le-1$ corresponds to S0. As we saw in class, the fundamental plane of elliptical galaxies is an empirical linear relationship among mean surface brightness, velocity dispersion and effective radius of elliptical galaxies. \n",
    "\n",
    "Assuming that we can write the fundamental plane as Y = β$X_i$+ ϵ, with  ϵ ~ N(0,λ$^{-1}$). \n",
    "Using the reference prior discussed in lecture, use the linchpin variable algorithm to simulate the marginal posteriors for $β_i$ and λ.\n",
    "\n",
    "Estimate the posterior means of βi, λ and the corresponding 95% credible intervals.\n",
    "\n",
    "Check your results with the Maximum likelihood estimators for these two parameters. Explore how the results depend on m (the Monte Carlo sample size)\n",
    "\n",
    "Assess the significance of the difference between your estimates of the β coefficients and those expected from the virial theorem. What can you conclude? \n",
    "\n",
    "Write a code to implement a Gibbs sampler that samples the posterior for you."
   ]
  },
  {
   "cell_type": "code",
   "execution_count": null,
   "metadata": {},
   "outputs": [],
   "source": []
  }
 ],
 "metadata": {
  "kernelspec": {
   "display_name": "Python 3.10.4 64-bit",
   "language": "python",
   "name": "python3"
  },
  "language_info": {
   "codemirror_mode": {
    "name": "ipython",
    "version": 3
   },
   "file_extension": ".py",
   "mimetype": "text/x-python",
   "name": "python",
   "nbconvert_exporter": "python",
   "pygments_lexer": "ipython3",
   "version": "3.10.4"
  },
  "vscode": {
   "interpreter": {
    "hash": "916dbcbb3f70747c44a77c7bcd40155683ae19c65e1c03b4aa3499c5328201f1"
   }
  }
 },
 "nbformat": 4,
 "nbformat_minor": 4
}
