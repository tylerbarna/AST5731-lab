{
 "cells": [
  {
   "cell_type": "markdown",
   "id": "c34a54d7",
   "metadata": {},
   "source": [
    "## Activity 09\n",
    "\n",
    "The file ```Cepheids_DATA_errMVerrP.csv``` contains the data for a sample of Cepheids variable stars. Specifically, the columns in the files are:\n",
    "\n",
    "- MV: absolute magnitude in the V band\n",
    "- MV_err: error on the absolute magnitude\n",
    "- LogP: logarithm of the pulsations period\n",
    "- LogP_err: error on the logarithm of the period\n",
    "\n",
    "You want to use these data to estimate the best period-luminosity relation (with associated errorbars) that can then be used to calibrate distances in nearby galaxies. \n",
    "\n",
    "Using an MCMC software of your choice, write two Bayesian linear regression models, one that does not include errors and one that includes errors in both x and y. Make sure to organize the analysis with the 6 steps discussed in class. \n",
    "\n",
    "Plot the estimated posterior distributions of the parameters of the linear models (marginalizing over the intrinsic dispersion), and summarize your results with your best estimate for the parameters and their 95% credibility intervals. \n",
    "\n",
    "Plot the data and overplot your best-fit line with the 95% credibility region on the data."
   ]
  },
  {
   "cell_type": "markdown",
   "id": "a650fd0f",
   "metadata": {},
   "source": []
  }
 ],
 "metadata": {
  "kernelspec": {
   "display_name": "Python 3",
   "language": "python",
   "name": "python3"
  },
  "language_info": {
   "codemirror_mode": {
    "name": "ipython",
    "version": 3
   },
   "file_extension": ".py",
   "mimetype": "text/x-python",
   "name": "python",
   "nbconvert_exporter": "python",
   "pygments_lexer": "ipython3",
   "version": "3.8.8"
  }
 },
 "nbformat": 4,
 "nbformat_minor": 5
}
