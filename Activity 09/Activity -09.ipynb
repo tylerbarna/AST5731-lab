{
 "cells": [
  {
   "cell_type": "markdown",
   "metadata": {},
   "source": [
    "## Activity 09\n",
    "\n",
    "\n",
    "The file ```Galaxy_Sample_Logistic.csv``` in the repository includes the following columns for a large sample of galaxies:\n",
    "\n",
    "> Morph : morphological classification (1= elliptical, 0= everything else)\n",
    ">\n",
    "> Density : Log of the environmental density (proportional to the surface density of galaxies around each object)\n",
    ">\n",
    "> Absolute : the r band absolute magnitude of an object (remember magnitudes are defined as -2.5log Luminosity)\n",
    "\n",
    "Using the programming language of your choice:\n",
    "\n",
    "Visualize and explore the data, discuss if the correlations you see make sense, given what you have learned in class. \n",
    "Using the best practice for Bayesian analysis, model the probability $\\theta$ of a galaxy being an elliptical as a function of its environmental density and absolute magnitude.\n",
    "\n",
    "Compute the 95% credibility interval on $\\theta$, in the case of  low and high density environments, and for bright and faint galaxies. [You will have to decide what high/low, faint/bright mean here. Make sure you ae quantitative and motivate your choice].\n",
    "\n",
    "Discuss which variable dominates in determining whether or not a galaxy has an elliptical morphology.\n"
   ]
  },
  {
   "cell_type": "code",
   "execution_count": null,
   "metadata": {},
   "outputs": [],
   "source": []
  }
 ],
 "metadata": {
  "kernelspec": {
   "display_name": "Python 3 (ipykernel)",
   "language": "python",
   "name": "python3"
  },
  "language_info": {
   "codemirror_mode": {
    "name": "ipython",
    "version": 3
   },
   "file_extension": ".py",
   "mimetype": "text/x-python",
   "name": "python",
   "nbconvert_exporter": "python",
   "pygments_lexer": "ipython3",
   "version": "3.11.0"
  }
 },
 "nbformat": 4,
 "nbformat_minor": 4
}
