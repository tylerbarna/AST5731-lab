{
 "cells": [
  {
   "cell_type": "markdown",
   "metadata": {},
   "source": [
    "# Activity 09\n",
    "## Tyler Barna"
   ]
  },
  {
   "cell_type": "markdown",
   "metadata": {},
   "source": [
    "### Contents\n",
    "1. [Import Modules and Data](#import)\n",
    "2. [Visualizing Data](#data)  \n",
    "3. [Analysis](#analysis)    \n",
    "    3.1 [Analysis 1](#analysis1)"
   ]
  },
  {
   "cell_type": "markdown",
   "metadata": {},
   "source": [
    "### 1. Import Modules and Data\n",
    "<a id='import'></a>"
   ]
  },
  {
   "cell_type": "code",
   "execution_count": 3,
   "metadata": {},
   "outputs": [
    {
     "data": {
      "text/html": [
       "<div>\n",
       "<style scoped>\n",
       "    .dataframe tbody tr th:only-of-type {\n",
       "        vertical-align: middle;\n",
       "    }\n",
       "\n",
       "    .dataframe tbody tr th {\n",
       "        vertical-align: top;\n",
       "    }\n",
       "\n",
       "    .dataframe thead th {\n",
       "        text-align: right;\n",
       "    }\n",
       "</style>\n",
       "<table border=\"1\" class=\"dataframe\">\n",
       "  <thead>\n",
       "    <tr style=\"text-align: right;\">\n",
       "      <th></th>\n",
       "      <th>Morph</th>\n",
       "      <th>Density</th>\n",
       "      <th>Absolute</th>\n",
       "    </tr>\n",
       "  </thead>\n",
       "  <tbody>\n",
       "    <tr>\n",
       "      <th>count</th>\n",
       "      <td>4355.000000</td>\n",
       "      <td>4355.000000</td>\n",
       "      <td>4355.000000</td>\n",
       "    </tr>\n",
       "    <tr>\n",
       "      <th>mean</th>\n",
       "      <td>0.251435</td>\n",
       "      <td>0.134801</td>\n",
       "      <td>-20.305943</td>\n",
       "    </tr>\n",
       "    <tr>\n",
       "      <th>std</th>\n",
       "      <td>0.433888</td>\n",
       "      <td>0.715290</td>\n",
       "      <td>0.786539</td>\n",
       "    </tr>\n",
       "    <tr>\n",
       "      <th>min</th>\n",
       "      <td>0.000000</td>\n",
       "      <td>-1.495605</td>\n",
       "      <td>-22.819994</td>\n",
       "    </tr>\n",
       "    <tr>\n",
       "      <th>25%</th>\n",
       "      <td>0.000000</td>\n",
       "      <td>-0.383498</td>\n",
       "      <td>-20.864103</td>\n",
       "    </tr>\n",
       "    <tr>\n",
       "      <th>50%</th>\n",
       "      <td>0.000000</td>\n",
       "      <td>0.046150</td>\n",
       "      <td>-20.261288</td>\n",
       "    </tr>\n",
       "    <tr>\n",
       "      <th>75%</th>\n",
       "      <td>1.000000</td>\n",
       "      <td>0.600258</td>\n",
       "      <td>-19.668709</td>\n",
       "    </tr>\n",
       "    <tr>\n",
       "      <th>max</th>\n",
       "      <td>1.000000</td>\n",
       "      <td>2.740877</td>\n",
       "      <td>-19.000109</td>\n",
       "    </tr>\n",
       "  </tbody>\n",
       "</table>\n",
       "</div>"
      ],
      "text/plain": [
       "             Morph      Density     Absolute\n",
       "count  4355.000000  4355.000000  4355.000000\n",
       "mean      0.251435     0.134801   -20.305943\n",
       "std       0.433888     0.715290     0.786539\n",
       "min       0.000000    -1.495605   -22.819994\n",
       "25%       0.000000    -0.383498   -20.864103\n",
       "50%       0.000000     0.046150   -20.261288\n",
       "75%       1.000000     0.600258   -19.668709\n",
       "max       1.000000     2.740877   -19.000109"
      ]
     },
     "metadata": {},
     "output_type": "display_data"
    }
   ],
   "source": [
    "import csv\n",
    "import dis\n",
    "import inspect\n",
    "import os\n",
    "import sys\n",
    "import time\n",
    "\n",
    "import arviz as az\n",
    "import astropy\n",
    "import astroquery\n",
    "import matplotlib as mpl\n",
    "import matplotlib.pyplot as plt\n",
    "import numpy as np\n",
    "import pandas as pd\n",
    "import pprint\n",
    "import pymc as pm\n",
    "import random\n",
    "import scipy as sp\n",
    "import scipy.stats as stats\n",
    "import seaborn as sns;  sns.set(color_codes=True)\n",
    "import time\n",
    "import warnings\n",
    "warnings.filterwarnings('ignore')\n",
    "\n",
    "from astropy import units as u\n",
    "from astropy import constants as const\n",
    "from astropy.coordinates import SkyCoord\n",
    "from astropy.io import fits\n",
    "from astropy.io import ascii\n",
    "from astropy.time import Time\n",
    "from astropy.time import TimeDelta\n",
    "from astropy.timeseries import TimeSeries\n",
    "from astropy.visualization import time_support\n",
    "time_support()\n",
    "from astropy.visualization import quantity_support\n",
    "quantity_support()\n",
    "\n",
    "from IPython.display import display_html\n",
    "from IPython.display import Image\n",
    "\n",
    "from matplotlib import cm\n",
    "\n",
    "from numpy import interp\n",
    "\n",
    "from pymc import Model, Normal, Gamma, find_MAP\n",
    "\n",
    "from scipy import integrate\n",
    "from scipy import linalg as la\n",
    "from scipy import optimize\n",
    "\n",
    "from scipy.stats import beta\n",
    "from scipy.stats import betabinom\n",
    "from scipy.stats import binom\n",
    "from scipy.stats import gamma\n",
    "from scipy.stats import invgamma\n",
    "from scipy.stats import multivariate_normal as mvn\n",
    "from scipy.stats import nbinom\n",
    "from scipy.stats import norm\n",
    "from scipy.stats import poisson\n",
    "from scipy.stats import t\n",
    "from scipy.stats import uniform\n",
    "\n",
    "from sklearn.linear_model import LinearRegression as linreg\n",
    "from sklearn import preprocessing as preproc\n",
    "\n",
    "%matplotlib inline\n",
    "plt.style.use(\"seaborn-colorblind\")\n",
    "mpl.rcParams.update({\"axes.grid\" : False})\n",
    "plt.style.context((\"seaborn-colorblind\",))\n",
    "\n",
    "pp = pprint.PrettyPrinter(indent=4)\n",
    "\n",
    "## set seed for reproducibility\n",
    "random.seed(5731)\n",
    "\n",
    "## import data\n",
    "\n",
    "df = pd.read_csv('Galaxy_Sample_Logistic.csv')\n",
    "display(df.describe())"
   ]
  },
  {
   "cell_type": "markdown",
   "metadata": {},
   "source": [
    "### 2. Visualizing Data\n",
    "<a id='data'></a>"
   ]
  },
  {
   "cell_type": "markdown",
   "metadata": {},
   "source": []
  },
  {
   "cell_type": "code",
   "execution_count": 5,
   "metadata": {},
   "outputs": [
    {
     "data": {
      "image/png": "[encoded data removed]",
      "text/plain": [
       "<Figure size 720x432 with 2 Axes>"
      ]
     },
     "metadata": {
      "needs_background": "light"
     },
     "output_type": "display_data"
    }
   ],
   "source": [
    "## make a plot of the density vs the magnitude\n",
    "fig, ax = plt.subplots(figsize=(10, 6))\n",
    "sns.kdeplot(data = df, x='Density',y='Absolute', \n",
    "                   zorder=0, n_levels=6, cbar=True, fill=True,ax=ax);"
   ]
  },
  {
   "cell_type": "markdown",
   "metadata": {},
   "source": [
    "### 3. Analysis\n",
    "<a id='analysis'></a>"
   ]
  },
  {
   "cell_type": "markdown",
   "metadata": {},
   "source": [
    "#### 3.1 Analysis 1\n",
    "<a id='analysis1'></a>"
   ]
  },
  {
   "cell_type": "markdown",
   "metadata": {},
   "source": []
  },
  {
   "cell_type": "code",
   "execution_count": null,
   "metadata": {},
   "outputs": [],
   "source": []
  }
 ],
 "metadata": {
  "kernelspec": {
   "display_name": "Python 3.9.13 ('ast5731')",
   "language": "python",
   "name": "python3"
  },
  "language_info": {
   "codemirror_mode": {
    "name": "ipython",
    "version": 3
   },
   "file_extension": ".py",
   "mimetype": "text/x-python",
   "name": "python",
   "nbconvert_exporter": "python",
   "pygments_lexer": "ipython3",
   "version": "3.9.13"
  },
  "orig_nbformat": 4,
  "vscode": {
   "interpreter": {
    "hash": "48ba337186cdeb473066c6f1845eedde2b671a74890cc3a14f1c7d6e319b96ea"
   }
  }
 },
 "nbformat": 4,
 "nbformat_minor": 2
}
